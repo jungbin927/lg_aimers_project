{
 "cells": [
  {
   "cell_type": "markdown",
   "id": "5fc4089b-d495-4617-975e-1b44990fda4e",
   "metadata": {},
   "source": [
    "# LG_aimers 해커톤 프로젝트\n",
    "\n",
    "## 안정빈"
   ]
  },
  {
   "cell_type": "code",
   "execution_count": null,
   "id": "b8cf7c0d-8baf-40df-aee1-b1cde55e147b",
   "metadata": {},
   "outputs": [],
   "source": []
  }
 ],
 "metadata": {
  "kernelspec": {
   "display_name": "Python 3 (ipykernel)",
   "language": "python",
   "name": "python3"
  },
  "language_info": {
   "codemirror_mode": {
    "name": "ipython",
    "version": 3
   },
   "file_extension": ".py",
   "mimetype": "text/x-python",
   "name": "python",
   "nbconvert_exporter": "python",
   "pygments_lexer": "ipython3",
   "version": "3.12.4"
  }
 },
 "nbformat": 4,
 "nbformat_minor": 5
}
